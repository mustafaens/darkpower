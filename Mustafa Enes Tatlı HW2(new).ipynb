{
 "cells": [
  {
   "cell_type": "code",
   "execution_count": 1,
   "metadata": {
    "collapsed": true
   },
   "outputs": [],
   "source": [
    "import nsfg\n",
    "import thinkplot\n",
    "import thinkstats2"
   ]
  },
  {
   "cell_type": "code",
   "execution_count": 2,
   "metadata": {
    "collapsed": true
   },
   "outputs": [],
   "source": [
    "pres = nsfg.ReadFemResp()\n"
   ]
  },
  {
   "cell_type": "code",
   "execution_count": 5,
   "metadata": {
    "collapsed": false
   },
   "outputs": [
    {
     "data": {
      "text/plain": [
       "0        NaN\n",
       "1       21.0\n",
       "2       16.0\n",
       "3        NaN\n",
       "4        NaN\n",
       "5       17.0\n",
       "6        NaN\n",
       "7        NaN\n",
       "8       18.0\n",
       "9        NaN\n",
       "10      19.0\n",
       "11      25.0\n",
       "12      23.0\n",
       "13      16.0\n",
       "14      14.0\n",
       "15       NaN\n",
       "16      17.0\n",
       "17      30.0\n",
       "18       NaN\n",
       "19      16.0\n",
       "20       NaN\n",
       "21      18.0\n",
       "22      24.0\n",
       "23      24.0\n",
       "24      27.0\n",
       "25       NaN\n",
       "26       NaN\n",
       "27      22.0\n",
       "28      19.0\n",
       "29      19.0\n",
       "        ... \n",
       "7613     NaN\n",
       "7614    23.0\n",
       "7615     NaN\n",
       "7616    19.0\n",
       "7617    23.0\n",
       "7618    26.0\n",
       "7619    27.0\n",
       "7620    24.0\n",
       "7621     NaN\n",
       "7622     NaN\n",
       "7623     NaN\n",
       "7624    23.0\n",
       "7625     NaN\n",
       "7626     NaN\n",
       "7627     NaN\n",
       "7628     NaN\n",
       "7629    21.0\n",
       "7630    37.0\n",
       "7631     NaN\n",
       "7632    25.0\n",
       "7633    20.0\n",
       "7634    21.0\n",
       "7635    17.0\n",
       "7636    18.0\n",
       "7637    21.0\n",
       "7638    18.0\n",
       "7639     NaN\n",
       "7640     NaN\n",
       "7641     NaN\n",
       "7642     NaN\n",
       "Name: fmar1age, dtype: float64"
      ]
     },
     "execution_count": 5,
     "metadata": {},
     "output_type": "execute_result"
    }
   ],
   "source": [
    "pres.fmar1age"
   ]
  },
  {
   "cell_type": "code",
   "execution_count": 7,
   "metadata": {
    "collapsed": true
   },
   "outputs": [],
   "source": [
    "hist = thinkstats2.Hist(pres.fmar1age, label='First Mariage ')"
   ]
  },
  {
   "cell_type": "code",
   "execution_count": 8,
   "metadata": {
    "collapsed": false
   },
   "outputs": [
    {
     "data": {
      "text/plain": [
       "Hist({9.0: 1, 11.0: 2, 12.0: 1, 13.0: 3, 14.0: 18, 15.0: 50, 16.0: 115, 17.0: 173, 18.0: 342, 19.0: 328, 20.0: 353, 21.0: 364, 22.0: 381, 23.0: 359, 24.0: 285, 25.0: 261, 26.0: 233, 27.0: 177, 28.0: 150, 29.0: 129, 30.0: 97, 31.0: 72, 32.0: 52, 33.0: 49, 34.0: 29, 35.0: 35, 36.0: 14, 37.0: 14, 38.0: 10, 39.0: 10, 40.0: 7, 41.0: 6, 42.0: 3, 43.0: 3})"
      ]
     },
     "execution_count": 8,
     "metadata": {},
     "output_type": "execute_result"
    }
   ],
   "source": [
    "hist"
   ]
  },
  {
   "cell_type": "code",
   "execution_count": 10,
   "metadata": {
    "collapsed": true
   },
   "outputs": [],
   "source": [
    "width = 0.5\n",
    "thinkplot.Hist(hist, width = width)\n",
    "thinkplot.config(xlabel='Ages', ylabel='Frequencies')"
   ]
  },
  {
   "cell_type": "code",
   "execution_count": 11,
   "metadata": {
    "collapsed": true
   },
   "outputs": [],
   "source": [
    "width = 0.5\n",
    "thinkplot.Hist(hist, width = width)  \n",
    "thinkplot.config(xlabel='Ages', ylabel='Frequencies')"
   ]
  },
  {
   "cell_type": "code",
   "execution_count": 12,
   "metadata": {
    "collapsed": false
   },
   "outputs": [
    {
     "data": {
      "text/plain": [
       "Hist({9.0: 1, 11.0: 2, 12.0: 1, 13.0: 3, 14.0: 18, 15.0: 50, 16.0: 115, 17.0: 173, 18.0: 342, 19.0: 328, 20.0: 353, 21.0: 364, 22.0: 381, 23.0: 359, 24.0: 285, 25.0: 261, 26.0: 233, 27.0: 177, 28.0: 150, 29.0: 129, 30.0: 97, 31.0: 72, 32.0: 52, 33.0: 49, 34.0: 29, 35.0: 35, 36.0: 14, 37.0: 14, 38.0: 10, 39.0: 10, 40.0: 7, 41.0: 6, 42.0: 3, 43.0: 3})"
      ]
     },
     "execution_count": 12,
     "metadata": {},
     "output_type": "execute_result"
    }
   ],
   "source": [
    "import thinkstats2\n",
    "import thinkplot\n",
    "hist = thinkstats2.Hist(pres.fmar1age, label=' First Mariages') \n",
    "hist"
   ]
  },
  {
   "cell_type": "code",
   "execution_count": 13,
   "metadata": {
    "collapsed": false
   },
   "outputs": [
    {
     "data": {
      "image/png": "[encoded data removed]",
      "text/plain": [
       "<matplotlib.figure.Figure at 0x1403bf98>"
      ]
     },
     "metadata": {},
     "output_type": "display_data"
    }
   ],
   "source": [
    "from __future__ import print_function, division\n",
    "\n",
    "%matplotlib inline\n",
    "\n",
    "import numpy as np\n",
    "\n",
    "import nsfg\n",
    "import first\n",
    "import thinkstats2\n",
    "import thinkplot\n",
    "\n",
    "width = 0.5\n",
    "thinkplot.Hist(hist, width = width) # histogram of fmar1age \n",
    "thinkplot.config(xlabel='Ages', ylabel='Frequencies')"
   ]
  },
  {
   "cell_type": "code",
   "execution_count": 14,
   "metadata": {
    "collapsed": false
   },
   "outputs": [
    {
     "data": {
      "text/plain": [
       "0    3517\n",
       "1    3436\n",
       "2     582\n",
       "3      90\n",
       "4      15\n",
       "5       3\n",
       "Name: fmarno, dtype: int64"
      ]
     },
     "execution_count": 14,
     "metadata": {},
     "output_type": "execute_result"
    }
   ],
   "source": [
    "fmarno = pres['fmarno']\n",
    "histogram2 = thinkstats2.Hist(fmarno)\n",
    "pres.fmarno.value_counts().sort_index()"
   ]
  },
  {
   "cell_type": "code",
   "execution_count": 15,
   "metadata": {
    "collapsed": false
   },
   "outputs": [
    {
     "data": {
      "image/png": "[encoded data removed]",
      "text/plain": [
       "<matplotlib.figure.Figure at 0x9c8da90>"
      ]
     },
     "metadata": {},
     "output_type": "display_data"
    },
    {
     "data": {
      "text/plain": [
       "<matplotlib.figure.Figure at 0x15d53a20>"
      ]
     },
     "metadata": {},
     "output_type": "display_data"
    }
   ],
   "source": [
    "thinkplot.Hist(histogram2, color='green',width=0.5,label=\" Marriages\")\n",
    "thinkplot.Show(xlabel=' Marriages', ylabel=' Frequencies')"
   ]
  },
  {
   "cell_type": "code",
   "execution_count": 17,
   "metadata": {
    "collapsed": false
   },
   "outputs": [
    {
     "data": {
      "text/plain": [
       "1      299\n",
       "2      301\n",
       "3      266\n",
       "4      421\n",
       "5      445\n",
       "6      559\n",
       "7      583\n",
       "8      606\n",
       "9      607\n",
       "10     468\n",
       "11     647\n",
       "12     658\n",
       "13     623\n",
       "14    1160\n",
       "Name: totincr, dtype: int64"
      ]
     },
     "execution_count": 17,
     "metadata": {},
     "output_type": "execute_result"
    }
   ],
   "source": [
    "pres.totincr\n",
    "pres.totincr.value_counts().sort_index()\n"
   ]
  },
  {
   "cell_type": "code",
   "execution_count": 19,
   "metadata": {
    "collapsed": true
   },
   "outputs": [],
   "source": [
    "totincr = pres['totincr']\n",
    "pres.totincr.value_counts().sort_index()\n",
    "histogramfour = thinkstats2.Hist(totincr)\n"
   ]
  },
  {
   "cell_type": "code",
   "execution_count": 20,
   "metadata": {
    "collapsed": false
   },
   "outputs": [
    {
     "data": {
      "image/png": "[encoded data removed]",
      "text/plain": [
       "<matplotlib.figure.Figure at 0x118c9e48>"
      ]
     },
     "metadata": {},
     "output_type": "display_data"
    }
   ],
   "source": [
    "thinkplot.Hist(histogramfour, color='yellow',width=0.5,label=\"total income\") \n",
    "thinkplot.Config(xlabel='variable', ylabel='Frequencies')\n"
   ]
  },
  {
   "cell_type": "code",
   "execution_count": 23,
   "metadata": {
    "collapsed": false
   },
   "outputs": [
    {
     "data": {
      "image/png": "[encoded data removed]",
      "text/plain": [
       "<matplotlib.figure.Figure at 0x12a4c588>"
      ]
     },
     "metadata": {},
     "output_type": "display_data"
    }
   ],
   "source": [
    "#Question 4\n",
    "Never_married = pres[pres.fmarno == 0]\n",
    "married = pres[pres.fmarno >= 1]\n",
    "histogramfive = thinkstats2.Hist(Never_married.totincr, label=\"never_married\")\n",
    "histogramsix = thinkstats2.Hist(married.totincr, label=\"married\")\n",
    "thinkplot.Hist(histogramfive, align='right',width=0.5,color='orange')\n",
    "thinkplot.Hist(histogramsix, align='left',width=0.5,color='black')"
   ]
  },
  {
   "cell_type": "code",
   "execution_count": 25,
   "metadata": {
    "collapsed": false
   },
   "outputs": [
    {
     "name": "stdout",
     "output_type": "stream",
     "text": [
      "Min: 1, Max: 14, Standard Deviation: 3.98080879683, Variance: 15.846838677, Mean: 8.02075632641\n"
     ]
    }
   ],
   "source": [
    "prestotinc = pres.totincr[pres.fmarno == 0] \n",
    "print('Min: ' + str(prestotinc.min()) + ', Max: ' + str(prestotinc.max()) + \n",
    "      ', Standard Deviation: ' + str(prestotinc.std()) + ', Variance: ' + str(prestotinc.var()) + \n",
    "      ', Mean: ' + str(prestotinc.mean()))"
   ]
  },
  {
   "cell_type": "code",
   "execution_count": 26,
   "metadata": {
    "collapsed": false
   },
   "outputs": [
    {
     "name": "stdout",
     "output_type": "stream",
     "text": [
      "Min: 1, Max: 14, Standard Deviation: 3.7146524958, Variance: 13.7986431646, Mean: 9.49515269026\n"
     ]
    }
   ],
   "source": [
    "prestotinc = pres.totincr[pres.fmarno > 0] \n",
    "print('Min: ' + str(prestotinc.min()) + ', Max: ' + str(prestotinc.max()) + \n",
    "      ', Standard Deviation: ' + str(prestotinc.std()) + ', Variance: ' + str(prestotinc.var())\n",
    "     + ', Mean: ' + str(prestotinc.mean()))"
   ]
  },
  {
   "cell_type": "code",
   "execution_count": null,
   "metadata": {
    "collapsed": true
   },
   "outputs": [],
   "source": []
  }
 ],
 "metadata": {
  "kernelspec": {
   "display_name": "Python 2",
   "language": "python",
   "name": "python2"
  },
  "language_info": {
   "codemirror_mode": {
    "name": "ipython",
    "version": 2
   },
   "file_extension": ".py",
   "mimetype": "text/x-python",
   "name": "python",
   "nbconvert_exporter": "python",
   "pygments_lexer": "ipython2",
   "version": "2.7.13"
  }
 },
 "nbformat": 4,
 "nbformat_minor": 2
}
